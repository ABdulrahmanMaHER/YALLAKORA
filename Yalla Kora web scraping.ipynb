{
 "cells": [
  {
   "cell_type": "code",
   "execution_count": 1,
   "id": "cd0aeb50",
   "metadata": {},
   "outputs": [],
   "source": [
    "import requests\n",
    "from bs4 import BeautifulSoup\n",
    "import csv\n",
    "import pandas as pd"
   ]
  },
  {
   "cell_type": "code",
   "execution_count": 2,
   "id": "ada4bb01",
   "metadata": {},
   "outputs": [
    {
     "name": "stdout",
     "output_type": "stream",
     "text": [
      "please enter a valid date in format of month/day/year : 11/27/2023\n"
     ]
    }
   ],
   "source": [
    "date=input(\"please enter a valid date in format of month/day/year : \")\n",
    "link=f\"https://www.yallakora.com/match-center/%D9%85%D8%B1%D9%83%D8%B2-%D8%A7%D9%84%D9%85%D8%A8%D8%A7%D8%B1%D9%8A%D8%A7%D8%AA?date={date}#\"\n",
    "req=requests.get(link)\n",
    "content=req.content\n",
    "soup=BeautifulSoup(content,\"lxml\")"
   ]
  },
  {
   "cell_type": "code",
   "execution_count": 3,
   "id": "9c53ceef",
   "metadata": {},
   "outputs": [],
   "source": [
    "match_center=soup.find(\"section\",{\"class\":\"mtchCntrContainer maxWidth\"})"
   ]
  },
  {
   "cell_type": "code",
   "execution_count": 4,
   "id": "8865ba7f",
   "metadata": {},
   "outputs": [],
   "source": [
    "titles=match_center.find_all(\"h2\")\n",
    "team_a=match_center.find_all(\"div\",{\"class\":\"teams teamA\"})\n",
    "result=match_center.find_all(\"div\",{\"class\":\"MResult\"})\n",
    "team_b=match_center.find_all(\"div\",{\"class\":\"teams teamB\"})\n",
    "Round=match_center.find_all(\"div\",{\"class\":\"date\"})\n",
    "condition=match_center.find_all(\"div\",{\"class\":\"matchStatus\"})\n",
    "time=match_center.find_all(\"span\",{\"class\":\"time\"})"
   ]
  },
  {
   "cell_type": "code",
   "execution_count": 5,
   "id": "35823eb3",
   "metadata": {},
   "outputs": [],
   "source": [
    "res=[]\n",
    "res_list=[]\n",
    "for i in range(len(result)):\n",
    "    res.append(result[i].text.strip().split()[:-1])\n",
    "        \n",
    "res_list = [' '.join(sublist) for sublist in res]     "
   ]
  },
  {
   "cell_type": "code",
   "execution_count": 6,
   "id": "0ea22999",
   "metadata": {},
   "outputs": [],
   "source": [
    "data=[]\n",
    "for i in range(len(team_a)):\n",
    "    data_dict={}\n",
    "    data_dict[\"Team A\"]=team_a[i].text.strip()\n",
    "    data_dict[\"Match Result\"]=res_list[i]\n",
    "    data_dict[\"Team B\"]=team_b[i].text.strip()\n",
    "    data_dict[\"Match Status\"]=condition[i].text.strip()\n",
    "    data_dict[\"Round\"]=Round[i].text.strip()\n",
    "    data_dict[\"Time\"]=time[i].text\n",
    "    data.append(data_dict)\n",
    "    "
   ]
  },
  {
   "cell_type": "code",
   "execution_count": 7,
   "id": "1971ebac",
   "metadata": {},
   "outputs": [
    {
     "data": {
      "text/html": [
       "<div>\n",
       "<style scoped>\n",
       "    .dataframe tbody tr th:only-of-type {\n",
       "        vertical-align: middle;\n",
       "    }\n",
       "\n",
       "    .dataframe tbody tr th {\n",
       "        vertical-align: top;\n",
       "    }\n",
       "\n",
       "    .dataframe thead th {\n",
       "        text-align: right;\n",
       "    }\n",
       "</style>\n",
       "<table border=\"1\" class=\"dataframe\">\n",
       "  <thead>\n",
       "    <tr style=\"text-align: right;\">\n",
       "      <th></th>\n",
       "      <th>Team A</th>\n",
       "      <th>Match Result</th>\n",
       "      <th>Team B</th>\n",
       "      <th>Match Status</th>\n",
       "      <th>Round</th>\n",
       "      <th>Time</th>\n",
       "    </tr>\n",
       "  </thead>\n",
       "  <tbody>\n",
       "    <tr>\n",
       "      <th>0</th>\n",
       "      <td>فولهام</td>\n",
       "      <td>- - -</td>\n",
       "      <td>وولفرهامبتون</td>\n",
       "      <td>لم تبدأ</td>\n",
       "      <td>الأسبوع الثالث عشر</td>\n",
       "      <td>22:00</td>\n",
       "    </tr>\n",
       "    <tr>\n",
       "      <th>1</th>\n",
       "      <td>جيرونا</td>\n",
       "      <td>- - -</td>\n",
       "      <td>اتليتك بلباو</td>\n",
       "      <td>لم تبدأ</td>\n",
       "      <td>الأسبوع الرابع عشر</td>\n",
       "      <td>22:00</td>\n",
       "    </tr>\n",
       "    <tr>\n",
       "      <th>2</th>\n",
       "      <td>الشــارقة</td>\n",
       "      <td>0 - 2</td>\n",
       "      <td>السد القطري</td>\n",
       "      <td>انتهت</td>\n",
       "      <td>الجولة الخامسة</td>\n",
       "      <td>16:00</td>\n",
       "    </tr>\n",
       "    <tr>\n",
       "      <th>3</th>\n",
       "      <td>ناساف كارشي</td>\n",
       "      <td>3 - 1</td>\n",
       "      <td>الفيصلى</td>\n",
       "      <td>انتهت</td>\n",
       "      <td>الجولة الخامسة</td>\n",
       "      <td>16:00</td>\n",
       "    </tr>\n",
       "    <tr>\n",
       "      <th>4</th>\n",
       "      <td>اجمك اف سي</td>\n",
       "      <td>1 - 2</td>\n",
       "      <td>الاتحاد</td>\n",
       "      <td>انتهت</td>\n",
       "      <td>الجولة الخامسة</td>\n",
       "      <td>18:00</td>\n",
       "    </tr>\n",
       "    <tr>\n",
       "      <th>5</th>\n",
       "      <td>الدحيل</td>\n",
       "      <td>2 - 0</td>\n",
       "      <td>استقلول دوشنبه</td>\n",
       "      <td>انتهت</td>\n",
       "      <td>الجولة الخامسة</td>\n",
       "      <td>18:00</td>\n",
       "    </tr>\n",
       "    <tr>\n",
       "      <th>6</th>\n",
       "      <td>سباهان اصفهان</td>\n",
       "      <td>1 - 0</td>\n",
       "      <td>القوة الجوية</td>\n",
       "      <td>الشوط الأول</td>\n",
       "      <td>الجولة الخامسة</td>\n",
       "      <td>20:00</td>\n",
       "    </tr>\n",
       "    <tr>\n",
       "      <th>7</th>\n",
       "      <td>النصر</td>\n",
       "      <td>0 - 0</td>\n",
       "      <td>بيرسبوليس</td>\n",
       "      <td>الشوط الأول</td>\n",
       "      <td>الجولة الخامسة</td>\n",
       "      <td>20:00</td>\n",
       "    </tr>\n",
       "    <tr>\n",
       "      <th>8</th>\n",
       "      <td>النصر للتعدين</td>\n",
       "      <td>1 - 2</td>\n",
       "      <td>بتروجيت</td>\n",
       "      <td>انتهت</td>\n",
       "      <td>الأسبوع العاشر</td>\n",
       "      <td>14:30</td>\n",
       "    </tr>\n",
       "    <tr>\n",
       "      <th>9</th>\n",
       "      <td>هيلاس فيرونا</td>\n",
       "      <td>1 - 1</td>\n",
       "      <td>ليتشي</td>\n",
       "      <td>استراحة</td>\n",
       "      <td>الأسبوع الثالث عشر</td>\n",
       "      <td>19:30</td>\n",
       "    </tr>\n",
       "    <tr>\n",
       "      <th>10</th>\n",
       "      <td>بولونيا</td>\n",
       "      <td>- - -</td>\n",
       "      <td>تورينو</td>\n",
       "      <td>لم تبدأ</td>\n",
       "      <td>الأسبوع الثالث عشر</td>\n",
       "      <td>21:45</td>\n",
       "    </tr>\n",
       "    <tr>\n",
       "      <th>11</th>\n",
       "      <td>إسطنبول باشاكشهير</td>\n",
       "      <td>2 - 1</td>\n",
       "      <td>بينديكسبور</td>\n",
       "      <td>الشوط الثاني</td>\n",
       "      <td>الأسبوع الثالث عشر</td>\n",
       "      <td>19:00</td>\n",
       "    </tr>\n",
       "    <tr>\n",
       "      <th>12</th>\n",
       "      <td>سيفاسبور</td>\n",
       "      <td>2 - 2</td>\n",
       "      <td>طرابزون سبور</td>\n",
       "      <td>الشوط الثاني</td>\n",
       "      <td>الأسبوع الثالث عشر</td>\n",
       "      <td>19:00</td>\n",
       "    </tr>\n",
       "  </tbody>\n",
       "</table>\n",
       "</div>"
      ],
      "text/plain": [
       "               Team A Match Result          Team B  Match Status  \\\n",
       "0              فولهام        - - -    وولفرهامبتون       لم تبدأ   \n",
       "1              جيرونا        - - -    اتليتك بلباو       لم تبدأ   \n",
       "2           الشــارقة        0 - 2     السد القطري         انتهت   \n",
       "3         ناساف كارشي        3 - 1         الفيصلى         انتهت   \n",
       "4          اجمك اف سي        1 - 2         الاتحاد         انتهت   \n",
       "5              الدحيل        2 - 0  استقلول دوشنبه         انتهت   \n",
       "6       سباهان اصفهان        1 - 0    القوة الجوية   الشوط الأول   \n",
       "7               النصر        0 - 0       بيرسبوليس   الشوط الأول   \n",
       "8       النصر للتعدين        1 - 2         بتروجيت         انتهت   \n",
       "9        هيلاس فيرونا        1 - 1           ليتشي       استراحة   \n",
       "10            بولونيا        - - -          تورينو       لم تبدأ   \n",
       "11  إسطنبول باشاكشهير        2 - 1      بينديكسبور  الشوط الثاني   \n",
       "12           سيفاسبور        2 - 2    طرابزون سبور  الشوط الثاني   \n",
       "\n",
       "                 Round   Time  \n",
       "0   الأسبوع الثالث عشر  22:00  \n",
       "1   الأسبوع الرابع عشر  22:00  \n",
       "2       الجولة الخامسة  16:00  \n",
       "3       الجولة الخامسة  16:00  \n",
       "4       الجولة الخامسة  18:00  \n",
       "5       الجولة الخامسة  18:00  \n",
       "6       الجولة الخامسة  20:00  \n",
       "7       الجولة الخامسة  20:00  \n",
       "8       الأسبوع العاشر  14:30  \n",
       "9   الأسبوع الثالث عشر  19:30  \n",
       "10  الأسبوع الثالث عشر  21:45  \n",
       "11  الأسبوع الثالث عشر  19:00  \n",
       "12  الأسبوع الثالث عشر  19:00  "
      ]
     },
     "execution_count": 7,
     "metadata": {},
     "output_type": "execute_result"
    }
   ],
   "source": [
    "df=pd.DataFrame(data)\n",
    "df.head(15)"
   ]
  },
  {
   "cell_type": "code",
   "execution_count": null,
   "id": "fdac6d31",
   "metadata": {},
   "outputs": [],
   "source": [
    "final_file=df.to_csv('path')"
   ]
  }
 ],
 "metadata": {
  "kernelspec": {
   "display_name": "Python 3 (ipykernel)",
   "language": "python",
   "name": "python3"
  },
  "language_info": {
   "codemirror_mode": {
    "name": "ipython",
    "version": 3
   },
   "file_extension": ".py",
   "mimetype": "text/x-python",
   "name": "python",
   "nbconvert_exporter": "python",
   "pygments_lexer": "ipython3",
   "version": "3.11.4"
  },
  "varInspector": {
   "cols": {
    "lenName": 16,
    "lenType": 16,
    "lenVar": 40
   },
   "kernels_config": {
    "python": {
     "delete_cmd_postfix": "",
     "delete_cmd_prefix": "del ",
     "library": "var_list.py",
     "varRefreshCmd": "print(var_dic_list())"
    },
    "r": {
     "delete_cmd_postfix": ") ",
     "delete_cmd_prefix": "rm(",
     "library": "var_list.r",
     "varRefreshCmd": "cat(var_dic_list()) "
    }
   },
   "types_to_exclude": [
    "module",
    "function",
    "builtin_function_or_method",
    "instance",
    "_Feature"
   ],
   "window_display": false
  }
 },
 "nbformat": 4,
 "nbformat_minor": 5
}
